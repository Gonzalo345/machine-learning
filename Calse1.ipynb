{
 "cells": [
  {
   "cell_type": "markdown",
   "id": "85cb77e8-a7b5-41dc-88e3-b38d969e4095",
   "metadata": {},
   "source": [
    "Tarea 1.01"
   ]
  },
  {
   "cell_type": "code",
   "execution_count": null,
   "id": "9b3ade35-df5e-4304-8353-b017b2161ca8",
   "metadata": {},
   "outputs": [],
   "source": [
    "a = 5"
   ]
  },
  {
   "cell_type": "code",
   "execution_count": null,
   "id": "cec91efb-d7a9-4049-a98a-15941dd3195e",
   "metadata": {},
   "outputs": [],
   "source": [
    "a"
   ]
  },
  {
   "cell_type": "markdown",
   "id": "a7425235-00b0-41c1-bfa3-389ea6e95370",
   "metadata": {},
   "source": [
    "Tarea 1.02 \n",
    "Pidan el ingreso de un dato por teclado y guardenlo en una variable a\n",
    "Convierta el dato a en un entero usando la función int\n",
    "Muestren por pantalla el contenido de a "
   ]
  },
  {
   "cell_type": "code",
   "execution_count": null,
   "id": "8cdceffa-ef42-45ac-abe0-2a1af7b044f4",
   "metadata": {},
   "outputs": [],
   "source": [
    "a = input(\"Por favor, ingresa un número: \")"
   ]
  },
  {
   "cell_type": "code",
   "execution_count": null,
   "id": "b1e56897-15a8-4c17-9906-f4fba8baf89c",
   "metadata": {},
   "outputs": [],
   "source": [
    "print('Hello')"
   ]
  },
  {
   "cell_type": "code",
   "execution_count": null,
   "id": "e2452499-407d-4e37-8572-3a27d5467775",
   "metadata": {},
   "outputs": [],
   "source": [
    "name = \"Gonzalo\"\n",
    "print(\"Hello\", name)\n",
    "print(\"Are you ready to learn Python? Let's go!\")"
   ]
  },
  {
   "cell_type": "code",
   "execution_count": null,
   "id": "51c1f2c0-b5eb-4195-9b7e-6d265344a21a",
   "metadata": {},
   "outputs": [],
   "source": [
    "# hola \n",
    "result = 0"
   ]
  },
  {
   "cell_type": "code",
   "execution_count": null,
   "id": "5e469b7b-a959-439b-a190-eb29b5a14edf",
   "metadata": {},
   "outputs": [],
   "source": [
    "result + 4"
   ]
  },
  {
   "cell_type": "code",
   "execution_count": null,
   "id": "963682ff-caac-447d-9d44-cb46c240bb50",
   "metadata": {},
   "outputs": [],
   "source": [
    "# Aca voy a poner el resultado \n",
    "result + 4"
   ]
  },
  {
   "cell_type": "code",
   "execution_count": null,
   "id": "d4d3aece-da57-44e2-9dd4-967b22ebae20",
   "metadata": {},
   "outputs": [],
   "source": [
    "# resutl + 3"
   ]
  },
  {
   "cell_type": "code",
   "execution_count": null,
   "id": "f90b914e-96b7-4596-8076-5bb0afd6f83a",
   "metadata": {},
   "outputs": [],
   "source": [
    "A = 1"
   ]
  },
  {
   "cell_type": "code",
   "execution_count": null,
   "id": "312a88ef-2164-4461-a76e-9fc4ecdbf347",
   "metadata": {},
   "outputs": [],
   "source": [
    "a = 4"
   ]
  },
  {
   "cell_type": "code",
   "execution_count": null,
   "id": "7828b397-7f79-4209-8b8b-b0402d113f53",
   "metadata": {},
   "outputs": [],
   "source": [
    "A"
   ]
  },
  {
   "cell_type": "code",
   "execution_count": null,
   "id": "3c7ba61d-1e2a-4634-a26d-54ac882e8772",
   "metadata": {},
   "outputs": [],
   "source": [
    "a"
   ]
  },
  {
   "cell_type": "code",
   "execution_count": null,
   "id": "c6bc8c96-f4ab-4d92-b2a6-b4b841a44d8b",
   "metadata": {},
   "outputs": [],
   "source": [
    "text = \"# This is not a comment because it's inside quotes.\""
   ]
  },
  {
   "cell_type": "code",
   "execution_count": null,
   "id": "9e17974e-8eda-42db-865e-0534927a48d8",
   "metadata": {},
   "outputs": [],
   "source": [
    "5 + 5"
   ]
  },
  {
   "cell_type": "code",
   "execution_count": null,
   "id": "2f2fda4e-9f1e-4649-881f-a1154ff1d75e",
   "metadata": {},
   "outputs": [],
   "source": [
    "tax = 12.5 / 100\n",
    "price = 100.50\n",
    "price * tax"
   ]
  },
  {
   "cell_type": "raw",
   "id": "f01f4d2e-91ec-41b4-a25d-07058113c1c3",
   "metadata": {},
   "source": [
    "a = price + _"
   ]
  },
  {
   "cell_type": "code",
   "execution_count": null,
   "id": "e0f55e1c-77b4-4d0c-b00b-02b6b091770e",
   "metadata": {},
   "outputs": [],
   "source": [
    "a = print(\"\"\"\n",
    "Usage: thingy [OPTIONS]\n",
    "     -h                        Display this usage message\n",
    "     -H hostname               Hostname to connect to\n",
    "\n",
    "     \n",
    "\"\"\")"
   ]
  },
  {
   "cell_type": "code",
   "execution_count": null,
   "id": "af14410b-5fd3-4ed8-b146-0107dfe550c5",
   "metadata": {},
   "outputs": [],
   "source": [
    "a = \"hola\""
   ]
  },
  {
   "cell_type": "code",
   "execution_count": null,
   "id": "e86e0edb-1f0f-499f-8a74-4720d9fb492f",
   "metadata": {},
   "outputs": [],
   "source": [
    "b = \"   _3\""
   ]
  },
  {
   "cell_type": "code",
   "execution_count": null,
   "id": "e65205e8-ba3c-4b0b-8902-5c23ddd16c2a",
   "metadata": {},
   "outputs": [],
   "source": [
    " 3 * a + b"
   ]
  },
  {
   "cell_type": "code",
   "execution_count": null,
   "id": "e1cb94c0-47d0-43fd-9d6e-88c58979a55a",
   "metadata": {},
   "outputs": [],
   "source": [
    "a * int(b)"
   ]
  },
  {
   "cell_type": "code",
   "execution_count": null,
   "id": "0f15e551-22c4-4465-9ad5-d8c4eb1d2241",
   "metadata": {},
   "outputs": [],
   "source": [
    "a * b"
   ]
  },
  {
   "cell_type": "code",
   "execution_count": null,
   "id": "baf7f7b1-6b7d-43f0-a95a-4c6eeba7ae00",
   "metadata": {},
   "outputs": [],
   "source": [
    "a , b = 0 , 1"
   ]
  },
  {
   "cell_type": "code",
   "execution_count": null,
   "id": "07e26ef6-881a-490a-8952-2a06053c0362",
   "metadata": {},
   "outputs": [],
   "source": [
    "a = 0\n",
    "b = 1\n",
    "while a < 400:\n",
    "    print(a)\n",
    "    c = a + b\n",
    "    b = a \n",
    "    a = c"
   ]
  },
  {
   "cell_type": "markdown",
   "id": "b8962eef-589d-4e8f-8a0f-bded64184933",
   "metadata": {},
   "source": [
    "1. Números Pares e Impares\n",
    "Escribe un programa que imprima todos los números pares e impares del 1 al 20. Usa un bucle while y una declaración if para determinar si el número es par o impar."
   ]
  },
  {
   "cell_type": "code",
   "execution_count": 149,
   "id": "d654c410-a142-4bfa-8df0-6a4d1188e49c",
   "metadata": {},
   "outputs": [
    {
     "name": "stdout",
     "output_type": "stream",
     "text": [
      "Pares e Impares\n",
      "a = 0\t b = 1\n",
      "a = 2\t b = 3\n",
      "a = 4\t b = 5\n",
      "a = 6\t b = 7\n",
      "a = 8\t b = 9\n",
      "a = 10\t b = 11\n",
      "a = 12\t b = 13\n",
      "a = 14\t b = 15\n",
      "a = 16\t b = 17\n",
      "a = 18\t b = 19\n",
      "[0, 2, 4, 6, 8, 10, 12, 14, 16, 18, 20]\n",
      "[1, 3, 5, 7, 9, 11, 13, 15, 17, 19]\n"
     ]
    }
   ],
   "source": [
    "print('Pares e Impares')\n",
    "a, b  = [], []\n",
    "for n in range(21):    \n",
    "    if not n % 2:\n",
    "        a.append(n)\n",
    "    if n % 2:\n",
    "        b.append(n)\n",
    "for n in range(len(b)):\n",
    "    print(f'a = {a[n]}\\t b = {b[n]}')\n",
    "len(b)\n",
    "len(b)\n",
    "print(a)\n",
    "print(b)"
   ]
  },
  {
   "cell_type": "code",
   "execution_count": 92,
   "id": "de3d8835-3440-4978-8d34-3d144e08f612",
   "metadata": {},
   "outputs": [
    {
     "name": "stdout",
     "output_type": "stream",
     "text": [
      "Pares e Impares\n",
      "a = 2 \t b = 1\n",
      "a = 4 \t b = 3\n",
      "a = 6 \t b = 5\n",
      "a = 8 \t b = 7\n",
      "a = 10 \t b = 9\n",
      "a = 12 \t b = 11\n",
      "a = 14 \t b = 13\n",
      "a = 16 \t b = 15\n",
      "a = 18 \t b = 17\n",
      "a = 20 \t b = 19\n"
     ]
    }
   ],
   "source": [
    "print('Pares e Impares')\n",
    "\n",
    "# Separar los números pares e impares en dos listas\n",
    "pares = []\n",
    "impares = []\n",
    "\n",
    "for n in range(1, 22):\n",
    "    if n % 2 == 0:\n",
    "        pares.append(n)\n",
    "    else:\n",
    "        impares.append(n)\n",
    "\n",
    "# Mostrar los resultados\n",
    "for par, impar in zip(pares, impares):\n",
    "    print(f'a = {par} \\t b = {impar}')"
   ]
  },
  {
   "cell_type": "code",
   "execution_count": 103,
   "id": "6a515fb1-bb0e-4cc2-b8bc-82e2bf4816fe",
   "metadata": {},
   "outputs": [
    {
     "name": "stdout",
     "output_type": "stream",
     "text": [
      "1 es impar\n",
      "2 es par\n",
      "3 es impar\n",
      "4 es par\n",
      "5 es impar\n",
      "6 es par\n",
      "7 es impar\n",
      "8 es par\n",
      "9 es impar\n",
      "10 es par\n",
      "11 es impar\n",
      "12 es par\n",
      "13 es impar\n",
      "14 es par\n",
      "15 es impar\n",
      "16 es par\n",
      "17 es impar\n",
      "18 es par\n",
      "19 es impar\n",
      "20 es par\n"
     ]
    }
   ],
   "source": [
    "n = 1\n",
    "while n <= 20:\n",
    "    if n % 2 == 0:\n",
    "        print(f\"{n} es par\")\n",
    "    else:\n",
    "        print(f\"{n} es impar\")\n",
    "    n += 1"
   ]
  },
  {
   "cell_type": "code",
   "execution_count": 133,
   "id": "6328e7e3-3c12-4d5c-b52e-b54160e18871",
   "metadata": {},
   "outputs": [
    {
     "ename": "NameError",
     "evalue": "name 'led' is not defined",
     "output_type": "error",
     "traceback": [
      "\u001b[0;31m---------------------------------------------------------------------------\u001b[0m",
      "\u001b[0;31mNameError\u001b[0m                                 Traceback (most recent call last)",
      "Cell \u001b[0;32mIn[133], line 3\u001b[0m\n\u001b[1;32m      1\u001b[0m suma \u001b[38;5;241m=\u001b[39m \u001b[38;5;241m0\u001b[39m\n\u001b[1;32m      2\u001b[0m a \u001b[38;5;241m=\u001b[39m [\u001b[38;5;241m0\u001b[39m]\n\u001b[0;32m----> 3\u001b[0m \u001b[38;5;28;01mfor\u001b[39;00m i \u001b[38;5;129;01min\u001b[39;00m led(a):\n\u001b[1;32m      4\u001b[0m     a\u001b[38;5;241m.\u001b[39mappend(i)\n\u001b[1;32m      5\u001b[0m \u001b[38;5;28mprint\u001b[39m(\u001b[38;5;124m\"\u001b[39m\u001b[38;5;124mLa suma es:\u001b[39m\u001b[38;5;124m\"\u001b[39m, a)\n",
      "\u001b[0;31mNameError\u001b[0m: name 'led' is not defined"
     ]
    }
   ],
   "source": [
    "suma = 0\n"
   ]
  },
  {
   "cell_type": "code",
   "execution_count": 135,
   "id": "d6b56b2d-854d-4a0e-857c-2bbec2e459b1",
   "metadata": {},
   "outputs": [
    {
     "ename": "KeyboardInterrupt",
     "evalue": "Interrupted by user",
     "output_type": "error",
     "traceback": [
      "\u001b[0;31m---------------------------------------------------------------------------\u001b[0m",
      "\u001b[0;31mKeyboardInterrupt\u001b[0m                         Traceback (most recent call last)",
      "Cell \u001b[0;32mIn[135], line 1\u001b[0m\n\u001b[0;32m----> 1\u001b[0m x \u001b[38;5;241m=\u001b[39m \u001b[38;5;28mint\u001b[39m(\u001b[38;5;28minput\u001b[39m(\u001b[38;5;124m\"\u001b[39m\u001b[38;5;124mPlease enter an integer: \u001b[39m\u001b[38;5;124m\"\u001b[39m))\n",
      "File \u001b[0;32m~/anaconda3/lib/python3.12/site-packages/ipykernel/kernelbase.py:1262\u001b[0m, in \u001b[0;36mKernel.raw_input\u001b[0;34m(self, prompt)\u001b[0m\n\u001b[1;32m   1260\u001b[0m     msg \u001b[38;5;241m=\u001b[39m \u001b[38;5;124m\"\u001b[39m\u001b[38;5;124mraw_input was called, but this frontend does not support input requests.\u001b[39m\u001b[38;5;124m\"\u001b[39m\n\u001b[1;32m   1261\u001b[0m     \u001b[38;5;28;01mraise\u001b[39;00m StdinNotImplementedError(msg)\n\u001b[0;32m-> 1262\u001b[0m \u001b[38;5;28;01mreturn\u001b[39;00m \u001b[38;5;28mself\u001b[39m\u001b[38;5;241m.\u001b[39m_input_request(\n\u001b[1;32m   1263\u001b[0m     \u001b[38;5;28mstr\u001b[39m(prompt),\n\u001b[1;32m   1264\u001b[0m     \u001b[38;5;28mself\u001b[39m\u001b[38;5;241m.\u001b[39m_parent_ident[\u001b[38;5;124m\"\u001b[39m\u001b[38;5;124mshell\u001b[39m\u001b[38;5;124m\"\u001b[39m],\n\u001b[1;32m   1265\u001b[0m     \u001b[38;5;28mself\u001b[39m\u001b[38;5;241m.\u001b[39mget_parent(\u001b[38;5;124m\"\u001b[39m\u001b[38;5;124mshell\u001b[39m\u001b[38;5;124m\"\u001b[39m),\n\u001b[1;32m   1266\u001b[0m     password\u001b[38;5;241m=\u001b[39m\u001b[38;5;28;01mFalse\u001b[39;00m,\n\u001b[1;32m   1267\u001b[0m )\n",
      "File \u001b[0;32m~/anaconda3/lib/python3.12/site-packages/ipykernel/kernelbase.py:1305\u001b[0m, in \u001b[0;36mKernel._input_request\u001b[0;34m(self, prompt, ident, parent, password)\u001b[0m\n\u001b[1;32m   1302\u001b[0m \u001b[38;5;28;01mexcept\u001b[39;00m \u001b[38;5;167;01mKeyboardInterrupt\u001b[39;00m:\n\u001b[1;32m   1303\u001b[0m     \u001b[38;5;66;03m# re-raise KeyboardInterrupt, to truncate traceback\u001b[39;00m\n\u001b[1;32m   1304\u001b[0m     msg \u001b[38;5;241m=\u001b[39m \u001b[38;5;124m\"\u001b[39m\u001b[38;5;124mInterrupted by user\u001b[39m\u001b[38;5;124m\"\u001b[39m\n\u001b[0;32m-> 1305\u001b[0m     \u001b[38;5;28;01mraise\u001b[39;00m \u001b[38;5;167;01mKeyboardInterrupt\u001b[39;00m(msg) \u001b[38;5;28;01mfrom\u001b[39;00m \u001b[38;5;28;01mNone\u001b[39;00m\n\u001b[1;32m   1306\u001b[0m \u001b[38;5;28;01mexcept\u001b[39;00m \u001b[38;5;167;01mException\u001b[39;00m:\n\u001b[1;32m   1307\u001b[0m     \u001b[38;5;28mself\u001b[39m\u001b[38;5;241m.\u001b[39mlog\u001b[38;5;241m.\u001b[39mwarning(\u001b[38;5;124m\"\u001b[39m\u001b[38;5;124mInvalid Message:\u001b[39m\u001b[38;5;124m\"\u001b[39m, exc_info\u001b[38;5;241m=\u001b[39m\u001b[38;5;28;01mTrue\u001b[39;00m)\n",
      "\u001b[0;31mKeyboardInterrupt\u001b[0m: Interrupted by user"
     ]
    }
   ],
   "source": [
    "x = int(input(\"Please enter an integer: \"))"
   ]
  },
  {
   "cell_type": "code",
   "execution_count": 3,
   "id": "f5f41c21-c1ed-4de3-a5c8-9d5818cbb437",
   "metadata": {},
   "outputs": [
    {
     "data": {
      "text/plain": [
       "['azul', 'rojo']"
      ]
     },
     "execution_count": 3,
     "metadata": {},
     "output_type": "execute_result"
    }
   ],
   "source": [
    "a = ['azul', 'rojo']\n",
    "a"
   ]
  },
  {
   "cell_type": "code",
   "execution_count": 9,
   "id": "349fe410-91e3-4359-9667-b2d91689262d",
   "metadata": {},
   "outputs": [
    {
     "data": {
      "text/plain": [
       "['azul', 'rojo', 'azul', 'rojo']"
      ]
     },
     "execution_count": 9,
     "metadata": {},
     "output_type": "execute_result"
    }
   ],
   "source": [
    "a = a + a\n",
    "a"
   ]
  },
  {
   "cell_type": "code",
   "execution_count": 11,
   "id": "60e4882e-3b75-4121-89d3-531d0798be53",
   "metadata": {},
   "outputs": [
    {
     "data": {
      "text/plain": [
       "['azul', 'rojo', 'azul', 'rojo']"
      ]
     },
     "execution_count": 11,
     "metadata": {},
     "output_type": "execute_result"
    }
   ],
   "source": [
    "a "
   ]
  },
  {
   "cell_type": "code",
   "execution_count": 13,
   "id": "4ca34216-280b-4e36-95ec-241944bb749a",
   "metadata": {},
   "outputs": [
    {
     "name": "stdout",
     "output_type": "stream",
     "text": [
      "['Lunes', 'Martes', 'Miércoles', 'Jueves', 'Viernes', 'Sábado', 'Domingo']\n"
     ]
    }
   ],
   "source": [
    "dias_de_la_semana = [\"Lunes\", \"Martes\", \"Miércoles\", \"Jueves\", \"Viernes\", \"Sábado\", \"Domingo\"]\n",
    "\n",
    "# Imprimir la lista\n",
    "print(dias_de_la_semana)"
   ]
  },
  {
   "cell_type": "code",
   "execution_count": 15,
   "id": "b8d2f6fd-de7f-4bab-a928-78216eeca95a",
   "metadata": {},
   "outputs": [
    {
     "name": "stdout",
     "output_type": "stream",
     "text": [
      "Domingo está en la lista de días de la semana.\n"
     ]
    }
   ],
   "source": [
    "dias_de_la_semana = [\"Lunes\", \"Martes\", \"Miércoles\", \"Jueves\", \"Viernes\", \"Sábado\", \"Domingo\"]\n",
    "\n",
    "# Verificar si \"Domingo\" está en la lista\n",
    "if \"Domingo\" in dias_de_la_semana:\n",
    "    print(\"Domingo está en la lista de días de la semana.\")\n",
    "else:\n",
    "    print(\"Domingo no está en la lista de días de la semana.\")"
   ]
  },
  {
   "cell_type": "code",
   "execution_count": 71,
   "id": "0332eb0f-c453-442c-ad98-dffa193d6b1e",
   "metadata": {},
   "outputs": [
    {
     "name": "stdout",
     "output_type": "stream",
     "text": [
      "Mastercard\n"
     ]
    }
   ],
   "source": [
    "x = 133\n",
    "if x < 0:\n",
    "    x = 0  \n",
    "    print('Negative changed to zero')\n",
    "else:\n",
    "    if x == 0:\n",
    "        print('Zero')\n",
    "    else:\n",
    "        if x == 1:\n",
    "            print('Single')\n",
    "        else:\n",
    "            print('Mastercard')\n"
   ]
  },
  {
   "cell_type": "code",
   "execution_count": 51,
   "id": "42465459-b453-4685-8a86-ff2660ae0947",
   "metadata": {},
   "outputs": [
    {
     "name": "stdout",
     "output_type": "stream",
     "text": [
      "Negative changed to zero\n"
     ]
    }
   ],
   "source": [
    "x = -12\n",
    "if x < 0:\n",
    "    x = 0\n",
    "    print('Negative changed to zero')\n",
    "elif x == 0:\n",
    "    print('Zero')\n",
    "elif x == 1:\n",
    "    print('Single')\n",
    "else:\n",
    "    print('More')\n"
   ]
  },
  {
   "cell_type": "code",
   "execution_count": 81,
   "id": "724f2239-5757-4113-b8c5-6abddb993b17",
   "metadata": {},
   "outputs": [],
   "source": [
    "# Create a sample collection\n",
    "users = {'Hans': 'active', 'Éléonore': 'inactive', '景太郎': 'active'}\n",
    "\n"
   ]
  },
  {
   "cell_type": "code",
   "execution_count": 75,
   "id": "bc1b72fe-3596-4bca-b549-e32d878f764f",
   "metadata": {},
   "outputs": [
    {
     "data": {
      "text/plain": [
       "{'Hans': 'active', 'Éléonore': 'inactive', '景太郎': 'active'}"
      ]
     },
     "execution_count": 75,
     "metadata": {},
     "output_type": "execute_result"
    }
   ],
   "source": [
    "users"
   ]
  },
  {
   "cell_type": "code",
   "execution_count": 77,
   "id": "c90ba9c6-3e1b-4b13-8acb-b6804a33d89a",
   "metadata": {},
   "outputs": [],
   "source": [
    "# Strategy:  Iterate over a copy\n",
    "for user, status in users.copy().items():\n",
    "    if status == 'inactive':\n",
    "        del users[user]\n"
   ]
  },
  {
   "cell_type": "code",
   "execution_count": 79,
   "id": "f2ce4a82-a229-4e01-9b3b-4970cca760d3",
   "metadata": {},
   "outputs": [
    {
     "data": {
      "text/plain": [
       "{'Hans': 'active', '景太郎': 'active'}"
      ]
     },
     "execution_count": 79,
     "metadata": {},
     "output_type": "execute_result"
    }
   ],
   "source": [
    "users"
   ]
  },
  {
   "cell_type": "code",
   "execution_count": 91,
   "id": "f1f642aa-5bcf-4df3-8915-274651d5621b",
   "metadata": {},
   "outputs": [
    {
     "ename": "SyntaxError",
     "evalue": "invalid syntax (1424767313.py, line 5)",
     "output_type": "error",
     "traceback": [
      "\u001b[0;36m  Cell \u001b[0;32mIn[91], line 5\u001b[0;36m\u001b[0m\n\u001b[0;31m    active_users[] = user\u001b[0m\n\u001b[0m                 ^\u001b[0m\n\u001b[0;31mSyntaxError\u001b[0m\u001b[0;31m:\u001b[0m invalid syntax\n"
     ]
    }
   ],
   "source": [
    "# Strategy:  Create a new collection\n",
    "active_users = []\n",
    "for user, status in users.items():\n",
    "    if status == 'active':\n",
    "        active_users[] = user"
   ]
  },
  {
   "cell_type": "code",
   "execution_count": 87,
   "id": "d5684ebd-917a-4964-b62a-26f1469a4827",
   "metadata": {},
   "outputs": [
    {
     "data": {
      "text/plain": [
       "{'Hans': 'active', '景太郎': 'active'}"
      ]
     },
     "execution_count": 87,
     "metadata": {},
     "output_type": "execute_result"
    }
   ],
   "source": [
    "active_users"
   ]
  },
  {
   "cell_type": "code",
   "execution_count": 101,
   "id": "80d27aee-8925-4080-a394-f88bd88b3973",
   "metadata": {},
   "outputs": [
    {
     "name": "stdout",
     "output_type": "stream",
     "text": [
      "0\n",
      "1\n",
      "2\n",
      "3\n",
      "4\n",
      "5\n",
      "6\n",
      "7\n",
      "8\n",
      "9\n"
     ]
    }
   ],
   "source": [
    "for i in range(10):\n",
    "    print(i)"
   ]
  },
  {
   "cell_type": "code",
   "execution_count": 1,
   "id": "9c1ba9af-3e69-4a08-b719-e4c0fbd1e2d3",
   "metadata": {},
   "outputs": [
    {
     "ename": "NameError",
     "evalue": "name 'asdfasdf' is not defined",
     "output_type": "error",
     "traceback": [
      "\u001b[0;31m---------------------------------------------------------------------------\u001b[0m",
      "\u001b[0;31mNameError\u001b[0m                                 Traceback (most recent call last)",
      "Cell \u001b[0;32mIn[1], line 1\u001b[0m\n\u001b[0;32m----> 1\u001b[0m asdfasdf\n",
      "\u001b[0;31mNameError\u001b[0m: name 'asdfasdf' is not defined"
     ]
    }
   ],
   "source": [
    "asdfasdf"
   ]
  },
  {
   "cell_type": "code",
   "execution_count": 3,
   "id": "b831a942-06c6-4439-8341-9405f8fe11c3",
   "metadata": {},
   "outputs": [
    {
     "name": "stdout",
     "output_type": "stream",
     "text": [
      "0\n",
      "1\n",
      "2\n",
      "3\n",
      "4\n"
     ]
    }
   ],
   "source": [
    "for i in range(5):\n",
    "    print(i)"
   ]
  },
  {
   "cell_type": "raw",
   "id": "1f4648c3-7e20-4759-b7ef-180f15aa5507",
   "metadata": {},
   "source": [
    "print('Pares e Impares')\n",
    "\n",
    "def pares(n):\n",
    "    \n",
    "for n in range(1, 22):\n",
    "    if n % 2 == 0:\n",
    "        pares.append(n)\n",
    "    else:\n",
    "        impares.append(n)\n",
    "\n",
    "# Mostrar los resultados\n",
    "for par, impar in zip(pares, impares):\n",
    "    print(f'a = {par} \\t b = {impar}')"
   ]
  },
  {
   "cell_type": "code",
   "execution_count": 112,
   "id": "b0e7133a-1d9c-4954-b5c9-d132335df3c2",
   "metadata": {},
   "outputs": [],
   "source": [
    "numeros=list(range(1))"
   ]
  },
  {
   "cell_type": "code",
   "execution_count": 120,
   "id": "c9884594-e74c-4827-b0d2-f79bd956136d",
   "metadata": {},
   "outputs": [
    {
     "data": {
      "text/plain": [
       "[0, 2, 2, 2]"
      ]
     },
     "execution_count": 120,
     "metadata": {},
     "output_type": "execute_result"
    }
   ],
   "source": [
    "numeros.append(2)\n",
    "numeros"
   ]
  },
  {
   "cell_type": "code",
   "execution_count": 108,
   "id": "e7311179-200c-426f-958b-4d39d251c495",
   "metadata": {},
   "outputs": [],
   "source": [
    "def pares(a):\n",
    "    par = []\n",
    "    print(f'par = {len(a)}')\n",
    "    b = 0\n",
    "    for n in a:\n",
    "        if n % 2 == 0:\n",
    "            par.append(n)\n",
    "            print(f'par: {n}')\n",
    "        b = b + 1\n",
    "    return(par)"
   ]
  },
  {
   "cell_type": "code",
   "execution_count": 110,
   "id": "39d2d3f8-4183-4987-9eda-50e49a96d9d2",
   "metadata": {},
   "outputs": [
    {
     "name": "stdout",
     "output_type": "stream",
     "text": [
      "par = 20\n",
      "par: 0\n",
      "par: 2\n",
      "par: 4\n",
      "par: 6\n",
      "par: 8\n",
      "par: 10\n",
      "par: 12\n",
      "par: 14\n",
      "par: 16\n",
      "par: 18\n"
     ]
    },
    {
     "data": {
      "text/plain": [
       "[0, 2, 4, 6, 8, 10, 12, 14, 16, 18]"
      ]
     },
     "execution_count": 110,
     "metadata": {},
     "output_type": "execute_result"
    }
   ],
   "source": [
    "pares(numeros)\n"
   ]
  },
  {
   "cell_type": "code",
   "execution_count": 122,
   "id": "26b7efdf-37fd-4272-9baa-79d709b34ab5",
   "metadata": {},
   "outputs": [],
   "source": [
    "numeros=list(range(20))"
   ]
  },
  {
   "cell_type": "code",
   "execution_count": 124,
   "id": "61d68f06-5da3-4eab-ba09-e53c72ead751",
   "metadata": {},
   "outputs": [
    {
     "data": {
      "text/plain": [
       "[0, 1, 2, 3, 4, 5, 6, 7, 8, 9, 10, 11, 12, 13, 14, 15, 16, 17, 18, 19]"
      ]
     },
     "execution_count": 124,
     "metadata": {},
     "output_type": "execute_result"
    }
   ],
   "source": [
    "numeros"
   ]
  },
  {
   "cell_type": "code",
   "execution_count": 128,
   "id": "4a162d67-4f87-4526-a614-6751ca0c53a2",
   "metadata": {},
   "outputs": [
    {
     "data": {
      "text/plain": [
       "1"
      ]
     },
     "execution_count": 128,
     "metadata": {},
     "output_type": "execute_result"
    }
   ],
   "source": [
    "numeros[1]"
   ]
  },
  {
   "cell_type": "code",
   "execution_count": 225,
   "id": "39bb2f61-345e-49b7-a12a-920a8b2dc125",
   "metadata": {},
   "outputs": [],
   "source": [
    "import random\n",
    "numeros=[]\n",
    "for a in range(20): \n",
    "    numeros.append(random.randint(1, 6))"
   ]
  },
  {
   "cell_type": "code",
   "execution_count": 227,
   "id": "85b6e074-1e6a-4dcf-bd84-a962f005042f",
   "metadata": {},
   "outputs": [
    {
     "data": {
      "text/plain": [
       "[4, 6, 6, 6, 4, 1, 1, 6, 6, 2, 5, 6, 5, 3, 5, 6, 6, 4, 3, 6]"
      ]
     },
     "execution_count": 227,
     "metadata": {},
     "output_type": "execute_result"
    }
   ],
   "source": [
    "numeros"
   ]
  },
  {
   "cell_type": "code",
   "execution_count": 152,
   "id": "a084d885-75b4-41cb-9929-47244f0585be",
   "metadata": {},
   "outputs": [
    {
     "data": {
      "text/plain": [
       "6"
      ]
     },
     "execution_count": 152,
     "metadata": {},
     "output_type": "execute_result"
    }
   ],
   "source": [
    "numeros[2]"
   ]
  },
  {
   "cell_type": "code",
   "execution_count": 192,
   "id": "08f097ce-2ce5-46bb-a888-6cea9cd810fe",
   "metadata": {},
   "outputs": [],
   "source": [
    "def impares(numeros):\n",
    "    impar=[]\n",
    "    for a in range(20):\n",
    "        n=numeros[a]    \n",
    "        if n%2!=0:\n",
    "            impar.append(n) \n",
    "    return(impar)"
   ]
  },
  {
   "cell_type": "code",
   "execution_count": 205,
   "id": "53856bfd-22f3-4832-a553-c0e5aea9c831",
   "metadata": {},
   "outputs": [],
   "source": [
    "def pares(a):\n",
    "    par, b= [], 0\n",
    "    for n in a:\n",
    "        if n % 2 == 0:\n",
    "            par.append(n)\n",
    "        b = b + 1\n",
    "    return(par)"
   ]
  },
  {
   "cell_type": "code",
   "execution_count": 162,
   "id": "a43dd1dc-05d7-4572-9f8b-f67660f7ffbf",
   "metadata": {},
   "outputs": [
    {
     "data": {
      "text/plain": [
       "[1, 4, 6, 3, 5, 2, 5, 1, 6, 6, 2, 4, 2, 1, 5, 2, 3, 6, 1, 3]"
      ]
     },
     "execution_count": 162,
     "metadata": {},
     "output_type": "execute_result"
    }
   ],
   "source": [
    "numeros"
   ]
  },
  {
   "cell_type": "code",
   "execution_count": 194,
   "id": "111bb00d-e15b-4a4e-96c7-a67a2b3d12bd",
   "metadata": {},
   "outputs": [
    {
     "name": "stdout",
     "output_type": "stream",
     "text": [
      "impar[1, 3, 5, 5, 1, 1, 5, 3, 1, 3]\n"
     ]
    }
   ],
   "source": [
    "impar=impares(numeros)"
   ]
  },
  {
   "cell_type": "code",
   "execution_count": 196,
   "id": "6b7a8316-d277-43c7-9cad-9529502a3231",
   "metadata": {},
   "outputs": [
    {
     "data": {
      "text/plain": [
       "[1, 3, 5, 5, 1, 1, 5, 3, 1, 3]"
      ]
     },
     "execution_count": 196,
     "metadata": {},
     "output_type": "execute_result"
    }
   ],
   "source": [
    "impar"
   ]
  },
  {
   "cell_type": "code",
   "execution_count": 207,
   "id": "93d34aa5-b03b-4a1d-9f3f-3394167c1b66",
   "metadata": {},
   "outputs": [],
   "source": [
    "par=pares(numeros)"
   ]
  },
  {
   "cell_type": "code",
   "execution_count": 209,
   "id": "12df409c-20e1-4889-8b95-24804ede8a86",
   "metadata": {},
   "outputs": [
    {
     "data": {
      "text/plain": [
       "[4, 6, 2, 6, 6, 2, 4, 2, 2, 6]"
      ]
     },
     "execution_count": 209,
     "metadata": {},
     "output_type": "execute_result"
    }
   ],
   "source": [
    "par"
   ]
  },
  {
   "cell_type": "code",
   "execution_count": 229,
   "id": "24faab32-f327-4665-88b9-982303da29c4",
   "metadata": {},
   "outputs": [
    {
     "name": "stdin",
     "output_type": "stream",
     "text": [
      "Please enter a number:  2\n"
     ]
    }
   ],
   "source": [
    "while True:\n",
    "    try:\n",
    "        x = int(input(\"Please enter a number: \"))\n",
    "        break\n",
    "    except ValueError:\n",
    "        print(\"Oops!  That was no valid number.  Try again...\")"
   ]
  },
  {
   "cell_type": "code",
   "execution_count": 231,
   "id": "5630f287-10a3-4177-a394-017af702f624",
   "metadata": {},
   "outputs": [
    {
     "name": "stdin",
     "output_type": "stream",
     "text": [
      "Please enter a number:  g\n"
     ]
    },
    {
     "name": "stdout",
     "output_type": "stream",
     "text": [
      "Oops!  That was no valid number.  Try again...\n"
     ]
    },
    {
     "name": "stdin",
     "output_type": "stream",
     "text": [
      "Please enter a number:  ds\n"
     ]
    },
    {
     "name": "stdout",
     "output_type": "stream",
     "text": [
      "Oops!  That was no valid number.  Try again...\n"
     ]
    },
    {
     "name": "stdin",
     "output_type": "stream",
     "text": [
      "Please enter a number:  s\n"
     ]
    },
    {
     "name": "stdout",
     "output_type": "stream",
     "text": [
      "Oops!  That was no valid number.  Try again...\n"
     ]
    },
    {
     "name": "stdin",
     "output_type": "stream",
     "text": [
      "Please enter a number:  s\n"
     ]
    },
    {
     "name": "stdout",
     "output_type": "stream",
     "text": [
      "Oops!  That was no valid number.  Try again...\n"
     ]
    },
    {
     "name": "stdin",
     "output_type": "stream",
     "text": [
      "Please enter a number:  s\n"
     ]
    },
    {
     "name": "stdout",
     "output_type": "stream",
     "text": [
      "Oops!  That was no valid number.  Try again...\n"
     ]
    },
    {
     "name": "stdin",
     "output_type": "stream",
     "text": [
      "Please enter a number:  s\n"
     ]
    },
    {
     "name": "stdout",
     "output_type": "stream",
     "text": [
      "Oops!  That was no valid number.  Try again...\n"
     ]
    },
    {
     "name": "stdin",
     "output_type": "stream",
     "text": [
      "Please enter a number:  \n"
     ]
    },
    {
     "name": "stdout",
     "output_type": "stream",
     "text": [
      "Oops!  That was no valid number.  Try again...\n"
     ]
    },
    {
     "name": "stdin",
     "output_type": "stream",
     "text": [
      "Please enter a number:  d\n"
     ]
    },
    {
     "name": "stdout",
     "output_type": "stream",
     "text": [
      "Oops!  That was no valid number.  Try again...\n"
     ]
    },
    {
     "name": "stdin",
     "output_type": "stream",
     "text": [
      "Please enter a number:  d\n"
     ]
    },
    {
     "name": "stdout",
     "output_type": "stream",
     "text": [
      "Oops!  That was no valid number.  Try again...\n"
     ]
    },
    {
     "name": "stdin",
     "output_type": "stream",
     "text": [
      "Please enter a number:  \n"
     ]
    },
    {
     "name": "stdout",
     "output_type": "stream",
     "text": [
      "Oops!  That was no valid number.  Try again...\n"
     ]
    },
    {
     "name": "stdin",
     "output_type": "stream",
     "text": [
      "Please enter a number:  d\n"
     ]
    },
    {
     "name": "stdout",
     "output_type": "stream",
     "text": [
      "Oops!  That was no valid number.  Try again...\n"
     ]
    },
    {
     "name": "stdin",
     "output_type": "stream",
     "text": [
      "Please enter a number:  \n"
     ]
    },
    {
     "name": "stdout",
     "output_type": "stream",
     "text": [
      "Oops!  That was no valid number.  Try again...\n"
     ]
    },
    {
     "name": "stdin",
     "output_type": "stream",
     "text": [
      "Please enter a number:  d\n"
     ]
    },
    {
     "name": "stdout",
     "output_type": "stream",
     "text": [
      "Oops!  That was no valid number.  Try again...\n"
     ]
    },
    {
     "name": "stdin",
     "output_type": "stream",
     "text": [
      "Please enter a number:  f\n"
     ]
    },
    {
     "name": "stdout",
     "output_type": "stream",
     "text": [
      "Oops!  That was no valid number.  Try again...\n"
     ]
    },
    {
     "name": "stdin",
     "output_type": "stream",
     "text": [
      "Please enter a number:  dgs\n"
     ]
    },
    {
     "name": "stdout",
     "output_type": "stream",
     "text": [
      "Oops!  That was no valid number.  Try again...\n"
     ]
    },
    {
     "name": "stdin",
     "output_type": "stream",
     "text": [
      "Please enter a number:  \n"
     ]
    },
    {
     "name": "stdout",
     "output_type": "stream",
     "text": [
      "Oops!  That was no valid number.  Try again...\n"
     ]
    },
    {
     "name": "stdin",
     "output_type": "stream",
     "text": [
      "Please enter a number:  3\n"
     ]
    }
   ],
   "source": [
    "while True:\n",
    "    try:\n",
    "        x = int(input(\"Please enter a number: \"))\n",
    "        break\n",
    "    except ValueError:\n",
    "        print(\"Oops!  That was no valid number.  Try again...\")"
   ]
  },
  {
   "cell_type": "code",
   "execution_count": 257,
   "id": "e5612497-fb3c-453b-979c-4239ad5cffc9",
   "metadata": {},
   "outputs": [],
   "source": [
    "for num in range(2, 1000000):\n",
    "\n",
    "    pass\n",
    "    continue \n",
    "    print(\"Found an odd number\", num)\n",
    "    print(\"Found an odd number\", num)\n",
    "    print(\"Found an odd number\", num)\n"
   ]
  },
  {
   "cell_type": "code",
   "execution_count": 265,
   "id": "4ac538df-9753-491e-bc21-2907990e51e6",
   "metadata": {},
   "outputs": [],
   "source": [
    "def suma():\n",
    "    pass"
   ]
  },
  {
   "cell_type": "code",
   "execution_count": 285,
   "id": "4adfc180-6e13-4bb5-8a11-92abb0acb34a",
   "metadata": {},
   "outputs": [],
   "source": [
    "def http_error(status):\n",
    "    match status:\n",
    "        case 400:\n",
    "            return \"Bad request\"\n",
    "        case 400:\n",
    "            return \"Not found\"\n",
    "        case 418:\n",
    "            return \"I'm a teapot\"\n",
    "        case 401 | 403 | 404:\n",
    "            return \"Not allowed\"\n",
    "    "
   ]
  },
  {
   "cell_type": "code",
   "execution_count": 287,
   "id": "a0dc5ff2-3c71-47c3-9500-1618a063097c",
   "metadata": {},
   "outputs": [],
   "source": [
    "http_error(500)"
   ]
  },
  {
   "cell_type": "code",
   "execution_count": 289,
   "id": "2da75a45-2b59-4445-ae89-98d0e0a59251",
   "metadata": {},
   "outputs": [
    {
     "ename": "NameError",
     "evalue": "name 'point' is not defined",
     "output_type": "error",
     "traceback": [
      "\u001b[0;31m---------------------------------------------------------------------------\u001b[0m",
      "\u001b[0;31mNameError\u001b[0m                                 Traceback (most recent call last)",
      "Cell \u001b[0;32mIn[289], line 2\u001b[0m\n\u001b[1;32m      1\u001b[0m \u001b[38;5;66;03m# point is an (x, y) tuple\u001b[39;00m\n\u001b[0;32m----> 2\u001b[0m \u001b[38;5;28;01mmatch\u001b[39;00m point:\n\u001b[1;32m      3\u001b[0m     \u001b[38;5;28;01mcase\u001b[39;00m (\u001b[38;5;241m0\u001b[39m, \u001b[38;5;241m0\u001b[39m):\n\u001b[1;32m      4\u001b[0m         \u001b[38;5;28mprint\u001b[39m(\u001b[38;5;124m\"\u001b[39m\u001b[38;5;124mOrigin\u001b[39m\u001b[38;5;124m\"\u001b[39m)\n\u001b[1;32m      5\u001b[0m     \u001b[38;5;28;01mcase\u001b[39;00m (\u001b[38;5;241m0\u001b[39m, y):\n\u001b[1;32m      6\u001b[0m         \u001b[38;5;28mprint\u001b[39m(\u001b[38;5;124mf\u001b[39m\u001b[38;5;124m\"\u001b[39m\u001b[38;5;124mY=\u001b[39m\u001b[38;5;132;01m{\u001b[39;00my\u001b[38;5;132;01m}\u001b[39;00m\u001b[38;5;124m\"\u001b[39m)\n\u001b[1;32m      7\u001b[0m     \u001b[38;5;28;01mcase\u001b[39;00m (x, \u001b[38;5;241m0\u001b[39m):\n\u001b[1;32m      8\u001b[0m         \u001b[38;5;28mprint\u001b[39m(\u001b[38;5;124mf\u001b[39m\u001b[38;5;124m\"\u001b[39m\u001b[38;5;124mX=\u001b[39m\u001b[38;5;132;01m{\u001b[39;00mx\u001b[38;5;132;01m}\u001b[39;00m\u001b[38;5;124m\"\u001b[39m)\n\u001b[1;32m      9\u001b[0m     \u001b[38;5;28;01mcase\u001b[39;00m (x, y):\n\u001b[1;32m     10\u001b[0m         \u001b[38;5;28mprint\u001b[39m(\u001b[38;5;124mf\u001b[39m\u001b[38;5;124m\"\u001b[39m\u001b[38;5;124mX=\u001b[39m\u001b[38;5;132;01m{\u001b[39;00mx\u001b[38;5;132;01m}\u001b[39;00m\u001b[38;5;124m, Y=\u001b[39m\u001b[38;5;132;01m{\u001b[39;00my\u001b[38;5;132;01m}\u001b[39;00m\u001b[38;5;124m\"\u001b[39m)\n\u001b[1;32m     11\u001b[0m     \u001b[38;5;28;01mcase\u001b[39;00m\u001b[38;5;250m \u001b[39m\u001b[38;5;28;01m_\u001b[39;00m:\n\u001b[1;32m     12\u001b[0m         \u001b[38;5;28;01mraise\u001b[39;00m \u001b[38;5;167;01mValueError\u001b[39;00m(\u001b[38;5;124m\"\u001b[39m\u001b[38;5;124mNot a point\u001b[39m\u001b[38;5;124m\"\u001b[39m)\n",
      "\u001b[0;31mNameError\u001b[0m: name 'point' is not defined"
     ]
    }
   ],
   "source": [
    "# point is an (x, y) tuple\n",
    "match point:\n",
    "    case (0, 0):\n",
    "        print(\"Origin\")\n",
    "    case (0, y):\n",
    "        print(f\"Y={y}\")\n",
    "    case (x, 0):\n",
    "        print(f\"X={x}\")\n",
    "    case (x, y):\n",
    "        print(f\"X={x}, Y={y}\")\n",
    "    case _:\n",
    "        raise ValueError(\"Not a point\")"
   ]
  },
  {
   "cell_type": "code",
   "execution_count": 415,
   "id": "b077023d-a5a8-4fd4-be99-188697947384",
   "metadata": {},
   "outputs": [],
   "source": [
    "a=[b,a]"
   ]
  },
  {
   "cell_type": "code",
   "execution_count": 409,
   "id": "e28adc3d-ff9e-4bf8-abc7-cb546f170fe4",
   "metadata": {},
   "outputs": [],
   "source": [
    "def manch(point):\n",
    "    # point is an (x, y) tuple\n",
    "    match point:\n",
    "        case (0, 0):\n",
    "            print(\"Origin\")\n",
    "        case (0, y):\n",
    "            print(f\"Y={y}\")\n",
    "        case (x, 0):\n",
    "            print(f\"X={x}\")\n",
    "        case (x, y):\n",
    "            print(f\"X={x}, Y={y}\")\n",
    "        case _:\n",
    "            raise ValueError(\"Not a point\")"
   ]
  },
  {
   "cell_type": "code",
   "execution_count": 411,
   "id": "dfd1cd9a-42cb-4260-8625-b8dbcc5f618a",
   "metadata": {},
   "outputs": [
    {
     "data": {
      "text/plain": [
       "(20, (20, (5, 9)))"
      ]
     },
     "execution_count": 411,
     "metadata": {},
     "output_type": "execute_result"
    }
   ],
   "source": [
    "a"
   ]
  },
  {
   "cell_type": "code",
   "execution_count": 413,
   "id": "4f8c0f79-91aa-4c69-aaa3-71957cc7afb0",
   "metadata": {},
   "outputs": [
    {
     "name": "stdout",
     "output_type": "stream",
     "text": [
      "X=20, Y=(20, (5, 9))\n"
     ]
    }
   ],
   "source": [
    "manch(a)"
   ]
  },
  {
   "cell_type": "code",
   "execution_count": 417,
   "id": "747a5ffd-54ab-4083-93d1-40856ac64bda",
   "metadata": {},
   "outputs": [],
   "source": [
    "import numpy as np"
   ]
  },
  {
   "cell_type": "code",
   "execution_count": 433,
   "id": "3123c517-8d78-4739-aed9-52d7ebabea1c",
   "metadata": {},
   "outputs": [],
   "source": [
    "a = np.array([[1, 2, 3],[8, 9, 10],\n",
    "              [4, 5, 6]])"
   ]
  },
  {
   "cell_type": "code",
   "execution_count": 435,
   "id": "d5f4dfdd-62d4-4465-b311-f243776afc95",
   "metadata": {},
   "outputs": [
    {
     "data": {
      "text/plain": [
       "array([[ 1,  2,  3],\n",
       "       [ 8,  9, 10],\n",
       "       [ 4,  5,  6]])"
      ]
     },
     "execution_count": 435,
     "metadata": {},
     "output_type": "execute_result"
    }
   ],
   "source": [
    "a"
   ]
  },
  {
   "cell_type": "code",
   "execution_count": 437,
   "id": "05120563-1e39-4f27-b563-50ba9d2710f4",
   "metadata": {},
   "outputs": [],
   "source": [
    "b = np.array([[2, 3, 7],[8, 9, 10],\n",
    "              [4, 5, 6]])"
   ]
  },
  {
   "cell_type": "code",
   "execution_count": 439,
   "id": "f24e8734-698d-4c56-9d0b-03396980571e",
   "metadata": {},
   "outputs": [],
   "source": [
    "c = a + b"
   ]
  },
  {
   "cell_type": "code",
   "execution_count": 441,
   "id": "7a3d0016-065c-408d-b9a6-7698ea90859d",
   "metadata": {},
   "outputs": [
    {
     "data": {
      "text/plain": [
       "array([[ 3,  5, 10],\n",
       "       [16, 18, 20],\n",
       "       [ 8, 10, 12]])"
      ]
     },
     "execution_count": 441,
     "metadata": {},
     "output_type": "execute_result"
    }
   ],
   "source": [
    "c"
   ]
  },
  {
   "cell_type": "code",
   "execution_count": 443,
   "id": "c53daeaa-cb4b-45ba-b741-811c5f3887d2",
   "metadata": {},
   "outputs": [],
   "source": [
    "a = np.array([1, 2, 3, 4, 5, 6])"
   ]
  },
  {
   "cell_type": "code",
   "execution_count": 445,
   "id": "e6610afe-97b8-4358-a763-9fa6808b5b05",
   "metadata": {},
   "outputs": [
    {
     "data": {
      "text/plain": [
       "array([1, 2, 3, 4, 5, 6])"
      ]
     },
     "execution_count": 445,
     "metadata": {},
     "output_type": "execute_result"
    }
   ],
   "source": [
    "a"
   ]
  },
  {
   "cell_type": "code",
   "execution_count": 447,
   "id": "9324dd64-0013-4ca9-a5ed-7c46a5c23395",
   "metadata": {},
   "outputs": [],
   "source": [
    "a = np.array([[1, 2, 3, 4], [5, 6, 7, 8], [9, 10, 11, 12]])"
   ]
  },
  {
   "cell_type": "code",
   "execution_count": 449,
   "id": "acb02794-f94d-4362-9f4d-5bbb3e559061",
   "metadata": {},
   "outputs": [
    {
     "data": {
      "text/plain": [
       "array([[ 1,  2,  3,  4],\n",
       "       [ 5,  6,  7,  8],\n",
       "       [ 9, 10, 11, 12]])"
      ]
     },
     "execution_count": 449,
     "metadata": {},
     "output_type": "execute_result"
    }
   ],
   "source": [
    "a"
   ]
  },
  {
   "cell_type": "code",
   "execution_count": 461,
   "id": "bd746898-b006-4cd3-b280-4b392328dcad",
   "metadata": {},
   "outputs": [
    {
     "data": {
      "text/plain": [
       "7"
      ]
     },
     "execution_count": 461,
     "metadata": {},
     "output_type": "execute_result"
    }
   ],
   "source": [
    "a[1,2]"
   ]
  },
  {
   "cell_type": "code",
   "execution_count": 463,
   "id": "557b39d3-ed94-4a4d-b0fb-cd7a5137d66d",
   "metadata": {},
   "outputs": [
    {
     "data": {
      "text/plain": [
       "(3, 4)"
      ]
     },
     "execution_count": 463,
     "metadata": {},
     "output_type": "execute_result"
    }
   ],
   "source": [
    "a.shape"
   ]
  },
  {
   "cell_type": "code",
   "execution_count": 467,
   "id": "13a08140-4a00-4820-9d99-e42f9788fc7d",
   "metadata": {},
   "outputs": [
    {
     "data": {
      "text/plain": [
       "2"
      ]
     },
     "execution_count": 467,
     "metadata": {},
     "output_type": "execute_result"
    }
   ],
   "source": [
    "a.ndim"
   ]
  },
  {
   "cell_type": "code",
   "execution_count": 469,
   "id": "3473dfc7-9678-45c5-92e4-1768fa0bee1a",
   "metadata": {},
   "outputs": [],
   "source": [
    "a = np.zeros((2, 3, 4))"
   ]
  },
  {
   "cell_type": "code",
   "execution_count": 477,
   "id": "810d85c5-caa4-45a0-8c76-559fd9dcb6b3",
   "metadata": {},
   "outputs": [
    {
     "data": {
      "text/plain": [
       "3"
      ]
     },
     "execution_count": 477,
     "metadata": {},
     "output_type": "execute_result"
    }
   ],
   "source": [
    "a.ndim"
   ]
  },
  {
   "cell_type": "code",
   "execution_count": 539,
   "id": "dd6529bb-9f5e-4174-9d7f-13b6ecc1ee69",
   "metadata": {},
   "outputs": [
    {
     "data": {
      "image/png": "[encoded data removed]",
      "text/plain": [
       "<Figure size 640x480 with 1 Axes>"
      ]
     },
     "metadata": {},
     "output_type": "display_data"
    }
   ],
   "source": [
    "%matplotlib inline\n",
    "import matplotlib.pyplot as plt\n",
    "\n",
    "c = 10 + np.random.randn(100000)\n",
    "\n",
    "plt.hist(c, bins=100)\n",
    "plt.show()"
   ]
  },
  {
   "cell_type": "code",
   "execution_count": 519,
   "id": "357767b3-eeab-443e-8fae-75ec6585aab3",
   "metadata": {},
   "outputs": [
    {
     "data": {
      "text/plain": [
       "array([ 1.11706014,  0.03926994, -0.29955051,  1.28531866, -0.92915947,\n",
       "       -0.30115559,  0.09665228, -0.88356382,  0.52147343, -1.10939263])"
      ]
     },
     "execution_count": 519,
     "metadata": {},
     "output_type": "execute_result"
    }
   ],
   "source": [
    "c"
   ]
  },
  {
   "cell_type": "code",
   "execution_count": null,
   "id": "2f83c81c-0e00-42ae-b473-ce283393d815",
   "metadata": {},
   "outputs": [],
   "source": []
  }
 ],
 "metadata": {
  "kernelspec": {
   "display_name": "Python 3 (ipykernel)",
   "language": "python",
   "name": "python3"
  },
  "language_info": {
   "codemirror_mode": {
    "name": "ipython",
    "version": 3
   },
   "file_extension": ".py",
   "mimetype": "text/x-python",
   "name": "python",
   "nbconvert_exporter": "python",
   "pygments_lexer": "ipython3",
   "version": "3.12.4"
  }
 },
 "nbformat": 4,
 "nbformat_minor": 5
}
