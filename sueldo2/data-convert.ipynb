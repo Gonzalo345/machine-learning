{
 "cells": [
  {
   "cell_type": "code",
   "execution_count": 1,
   "id": "e62eca33-9e2f-487e-95b7-f49d28e036de",
   "metadata": {},
   "outputs": [],
   "source": [
    "import pandas as pd\n",
    "import numpy as np"
   ]
  },
  {
   "cell_type": "code",
   "execution_count": 2,
   "id": "677e610e-2901-40b8-aaa2-ce41a932ee82",
   "metadata": {},
   "outputs": [],
   "source": [
    "dolar_hoy=1260"
   ]
  },
  {
   "cell_type": "code",
   "execution_count": 3,
   "id": "d57afacc-b910-43fa-a561-919f1b682ccf",
   "metadata": {},
   "outputs": [],
   "source": [
    "datos=pd.read_csv('datos.csv')"
   ]
  },
  {
   "cell_type": "code",
   "execution_count": 4,
   "id": "1615da9f-a67c-440a-8bea-66521476edf0",
   "metadata": {},
   "outputs": [],
   "source": [
    "sueldo=datos.iloc[:,3:5].dropna()"
   ]
  },
  {
   "cell_type": "code",
   "execution_count": 5,
   "id": "9301a548-64ab-4166-9216-8dc329f45268",
   "metadata": {},
   "outputs": [],
   "source": [
    "sueldo=sueldo.rename(columns={'Fecha.1': 'Fecha','Sueldo ': 'Sueldo'})"
   ]
  },
  {
   "cell_type": "code",
   "execution_count": 6,
   "id": "49949f00-f4ca-4f1b-87a9-8fdf0d98af15",
   "metadata": {},
   "outputs": [],
   "source": [
    "sueldo['Fecha']=pd.to_datetime(sueldo['Fecha'], dayfirst=True)"
   ]
  },
  {
   "cell_type": "code",
   "execution_count": 7,
   "id": "50f4e840-5328-4302-b324-f3de994eb17b",
   "metadata": {},
   "outputs": [],
   "source": [
    "sueldo=sueldo.set_index('Fecha')"
   ]
  },
  {
   "cell_type": "code",
   "execution_count": 8,
   "id": "0f666ad7-ade1-48c6-bf10-5c2b83e8a5c2",
   "metadata": {},
   "outputs": [],
   "source": [
    "sueldo['DiaS']=sueldo.index.day"
   ]
  },
  {
   "cell_type": "code",
   "execution_count": 9,
   "id": "03c2e332-b861-4e37-8b4b-f15c8267080f",
   "metadata": {},
   "outputs": [],
   "source": [
    "sueldo=sueldo.to_period('M')"
   ]
  },
  {
   "cell_type": "code",
   "execution_count": 10,
   "id": "e9b4fe20-4fe6-49e1-8f24-383220b46988",
   "metadata": {},
   "outputs": [],
   "source": [
    "dolar=datos.iloc[:,0:3]"
   ]
  },
  {
   "cell_type": "code",
   "execution_count": 11,
   "id": "c0a7256d-dba7-442d-8a4a-29fb081707dc",
   "metadata": {},
   "outputs": [],
   "source": [
    "dolar=dolar.set_index('Fecha')"
   ]
  },
  {
   "cell_type": "code",
   "execution_count": 12,
   "id": "cb85bec5-c32b-4bb4-81c7-c4b9e4d7d341",
   "metadata": {},
   "outputs": [],
   "source": [
    "dolar.index=pd.to_datetime(dolar.index, dayfirst=True)"
   ]
  },
  {
   "cell_type": "code",
   "execution_count": 13,
   "id": "9551a8b8-eeda-4907-88a5-392758091ffb",
   "metadata": {},
   "outputs": [],
   "source": [
    "dolar=dolar.sort_index(ascending=True)"
   ]
  },
  {
   "cell_type": "code",
   "execution_count": 14,
   "id": "f3c58f7b-b559-4070-94b0-4fc9955fb472",
   "metadata": {},
   "outputs": [],
   "source": [
    "dolar['Compra'] = dolar['Compra'].str.replace(',', '.').astype(float)"
   ]
  },
  {
   "cell_type": "code",
   "execution_count": 15,
   "id": "84fc9f46-2a3a-4176-858a-d2ff46157ac4",
   "metadata": {},
   "outputs": [],
   "source": [
    "dolar['Venta'] = dolar['Venta'].str.replace(',', '.').astype(float)"
   ]
  },
  {
   "cell_type": "code",
   "execution_count": 16,
   "id": "4077d713-6675-41b7-b34e-3c55d5ac8b59",
   "metadata": {},
   "outputs": [],
   "source": [
    "dolar['DMed'] = ((dolar['Compra'] + dolar['Venta']) / 2).round(1)"
   ]
  },
  {
   "cell_type": "code",
   "execution_count": 17,
   "id": "e6e31861-24e3-403f-a316-c98974265afc",
   "metadata": {},
   "outputs": [],
   "source": [
    "dolar['DiaD'] = dolar.index.day"
   ]
  },
  {
   "cell_type": "code",
   "execution_count": 18,
   "id": "fc69ccef-af8e-403b-9fc6-422b45719968",
   "metadata": {},
   "outputs": [],
   "source": [
    "dolar = dolar.groupby(dolar.index.to_period('M')).last()"
   ]
  },
  {
   "cell_type": "code",
   "execution_count": 19,
   "id": "f1adaf72-a01c-4779-ab84-3a540789476b",
   "metadata": {},
   "outputs": [],
   "source": [
    "df = pd.concat([dolar,sueldo], axis=1).dropna()"
   ]
  },
  {
   "cell_type": "code",
   "execution_count": 20,
   "id": "3ef0669c-0007-443c-88d5-677c52d3d125",
   "metadata": {},
   "outputs": [],
   "source": [
    "df['DiaS'] = df['DiaS'].astype(int)"
   ]
  },
  {
   "cell_type": "code",
   "execution_count": 21,
   "id": "751624b4-34f4-46ea-8db3-fad2d3442692",
   "metadata": {},
   "outputs": [],
   "source": [
    "df['Real'] = ( df['Sueldo'] / df['DMed'] ).round(1)"
   ]
  },
  {
   "cell_type": "code",
   "execution_count": 26,
   "id": "3760a0bd-ec20-4ac6-9bf7-389f15962375",
   "metadata": {},
   "outputs": [],
   "source": [
    "df['Hoy'] = (df['Real'] * dolar_hoy).round(1)"
   ]
  },
  {
   "cell_type": "code",
   "execution_count": 28,
   "id": "cfbd9797-6c17-48b5-89b7-c4ad917b5054",
   "metadata": {},
   "outputs": [
    {
     "data": {
      "text/html": [
       "<div>\n",
       "<style scoped>\n",
       "    .dataframe tbody tr th:only-of-type {\n",
       "        vertical-align: middle;\n",
       "    }\n",
       "\n",
       "    .dataframe tbody tr th {\n",
       "        vertical-align: top;\n",
       "    }\n",
       "\n",
       "    .dataframe thead th {\n",
       "        text-align: right;\n",
       "    }\n",
       "</style>\n",
       "<table border=\"1\" class=\"dataframe\">\n",
       "  <thead>\n",
       "    <tr style=\"text-align: right;\">\n",
       "      <th></th>\n",
       "      <th>Compra</th>\n",
       "      <th>Venta</th>\n",
       "      <th>DMed</th>\n",
       "      <th>DiaD</th>\n",
       "      <th>Sueldo</th>\n",
       "      <th>DiaS</th>\n",
       "      <th>Real</th>\n",
       "      <th>Hoy</th>\n",
       "    </tr>\n",
       "    <tr>\n",
       "      <th>Fecha</th>\n",
       "      <th></th>\n",
       "      <th></th>\n",
       "      <th></th>\n",
       "      <th></th>\n",
       "      <th></th>\n",
       "      <th></th>\n",
       "      <th></th>\n",
       "      <th></th>\n",
       "    </tr>\n",
       "  </thead>\n",
       "  <tbody>\n",
       "    <tr>\n",
       "      <th>2021-08</th>\n",
       "      <td>177.0</td>\n",
       "      <td>182.0</td>\n",
       "      <td>179.5</td>\n",
       "      <td>31</td>\n",
       "      <td>96000.0</td>\n",
       "      <td>31</td>\n",
       "      <td>534.8</td>\n",
       "      <td>673848.0</td>\n",
       "    </tr>\n",
       "    <tr>\n",
       "      <th>2021-09</th>\n",
       "      <td>182.0</td>\n",
       "      <td>186.0</td>\n",
       "      <td>184.0</td>\n",
       "      <td>30</td>\n",
       "      <td>96000.0</td>\n",
       "      <td>29</td>\n",
       "      <td>521.7</td>\n",
       "      <td>657342.0</td>\n",
       "    </tr>\n",
       "    <tr>\n",
       "      <th>2021-10</th>\n",
       "      <td>193.5</td>\n",
       "      <td>197.5</td>\n",
       "      <td>195.5</td>\n",
       "      <td>29</td>\n",
       "      <td>96000.0</td>\n",
       "      <td>29</td>\n",
       "      <td>491.0</td>\n",
       "      <td>618660.0</td>\n",
       "    </tr>\n",
       "    <tr>\n",
       "      <th>2021-11</th>\n",
       "      <td>197.5</td>\n",
       "      <td>201.5</td>\n",
       "      <td>199.5</td>\n",
       "      <td>30</td>\n",
       "      <td>96000.0</td>\n",
       "      <td>30</td>\n",
       "      <td>481.2</td>\n",
       "      <td>606312.0</td>\n",
       "    </tr>\n",
       "  </tbody>\n",
       "</table>\n",
       "</div>"
      ],
      "text/plain": [
       "         Compra  Venta   DMed  DiaD   Sueldo  DiaS   Real       Hoy\n",
       "Fecha                                                              \n",
       "2021-08   177.0  182.0  179.5    31  96000.0    31  534.8  673848.0\n",
       "2021-09   182.0  186.0  184.0    30  96000.0    29  521.7  657342.0\n",
       "2021-10   193.5  197.5  195.5    29  96000.0    29  491.0  618660.0\n",
       "2021-11   197.5  201.5  199.5    30  96000.0    30  481.2  606312.0"
      ]
     },
     "execution_count": 28,
     "metadata": {},
     "output_type": "execute_result"
    }
   ],
   "source": [
    "df.head(4)"
   ]
  },
  {
   "cell_type": "code",
   "execution_count": 30,
   "id": "be6d7cb0-e7da-4c42-8f2f-79a15251fa95",
   "metadata": {},
   "outputs": [],
   "source": [
    "df.to_csv('datos-procesados.csv')"
   ]
  }
 ],
 "metadata": {
  "kernelspec": {
   "display_name": "Python 3 (ipykernel)",
   "language": "python",
   "name": "python3"
  },
  "language_info": {
   "codemirror_mode": {
    "name": "ipython",
    "version": 3
   },
   "file_extension": ".py",
   "mimetype": "text/x-python",
   "name": "python",
   "nbconvert_exporter": "python",
   "pygments_lexer": "ipython3",
   "version": "3.12.4"
  }
 },
 "nbformat": 4,
 "nbformat_minor": 5
}
